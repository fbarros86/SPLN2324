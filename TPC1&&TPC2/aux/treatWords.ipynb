{
 "cells": [
  {
   "cell_type": "code",
   "execution_count": 31,
   "metadata": {},
   "outputs": [],
   "source": [
    "import pandas as pd\n",
    "import re\n",
    "# Read the text file\n",
    "with open('freq.txt', 'r') as file:\n",
    "    lines = file.readlines()\n",
    "\n",
    "data = []\n",
    "acc = 0\n",
    "# Parse each line to extract word and frequency\n",
    "for line in lines:\n",
    "    parts = line.strip().split('\\t')\n",
    "    # Assuming the format is: word frequency additional_info\n",
    "    word = parts[1]  # Adjust index if needed\n",
    "    frequency = int(parts[0])  # Convert frequency to integer\n",
    "    if not re.search(\"\\d\",word) and frequency>3:\n",
    "        acc +=frequency\n",
    "        data.append({'Word': word, 'Frequency': frequency})\n",
    "\n",
    "# Create a DataFrame from the extracted data\n",
    "df = pd.DataFrame(data)\n",
    "\n",
    "\n"
   ]
  },
  {
   "cell_type": "code",
   "execution_count": 32,
   "metadata": {},
   "outputs": [
    {
     "name": "stdout",
     "output_type": "stream",
     "text": [
      "<class 'pandas.core.frame.DataFrame'>\n",
      "RangeIndex: 111494 entries, 0 to 111493\n",
      "Data columns (total 2 columns):\n",
      " #   Column     Non-Null Count   Dtype \n",
      "---  ------     --------------   ----- \n",
      " 0   Word       111494 non-null  object\n",
      " 1   Frequency  111494 non-null  int64 \n",
      "dtypes: int64(1), object(1)\n",
      "memory usage: 1.7+ MB\n"
     ]
    }
   ],
   "source": [
    "df.info()"
   ]
  },
  {
   "cell_type": "code",
   "execution_count": 33,
   "metadata": {},
   "outputs": [
    {
     "data": {
      "text/plain": [
       "Word         0\n",
       "Frequency    0\n",
       "dtype: int64"
      ]
     },
     "execution_count": 33,
     "metadata": {},
     "output_type": "execute_result"
    }
   ],
   "source": [
    "df.isnull().sum()"
   ]
  },
  {
   "cell_type": "code",
   "execution_count": 34,
   "metadata": {},
   "outputs": [],
   "source": [
    "output_file = 'wordTablePT.txt'  # Specify the path to the output file\n",
    "with open(output_file, 'w') as outfile:\n",
    "    outfile.write(str(acc) + '\\n')\n",
    "\n",
    "# Append the DataFrame to the output file without the header\n",
    "df.to_csv(output_file, sep=' ', index=False, header=False, mode='a')"
   ]
  }
 ],
 "metadata": {
  "kernelspec": {
   "display_name": "base",
   "language": "python",
   "name": "python3"
  },
  "language_info": {
   "codemirror_mode": {
    "name": "ipython",
    "version": 3
   },
   "file_extension": ".py",
   "mimetype": "text/x-python",
   "name": "python",
   "nbconvert_exporter": "python",
   "pygments_lexer": "ipython3",
   "version": "3.11.4"
  },
  "orig_nbformat": 4
 },
 "nbformat": 4,
 "nbformat_minor": 2
}
